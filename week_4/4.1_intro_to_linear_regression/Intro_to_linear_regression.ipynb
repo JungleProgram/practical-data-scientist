{
 "cells": [
  {
   "cell_type": "markdown",
   "metadata": {},
   "source": [
    "# Lecture 4.1: Intro to Linear Regression\n",
    "\n",
    "This lecture, we are going implement a univariate linear regression model on a toy example.\n",
    "\n",
    "**Learning goals:**\n",
    "\n",
    "- understand how to fit a dataset with a linear regression model\n",
    "- understand how to calculate the loss function of a model\n",
    "- predict using a linear regression model"
   ]
  },
  {
   "cell_type": "code",
   "execution_count": null,
   "metadata": {
    "ExecuteTime": {
     "end_time": "2022-02-14T11:52:49.625651Z",
     "start_time": "2022-02-14T11:52:48.291355Z"
    }
   },
   "outputs": [],
   "source": [
    "import numpy as np\n",
    "import pandas as pd\n",
    "import matplotlib.pyplot as plt\n",
    "import seaborn as sns"
   ]
  },
  {
   "cell_type": "markdown",
   "metadata": {},
   "source": [
    "# Section 1\n",
    "## Dataset\n"
   ]
  },
  {
   "cell_type": "code",
   "execution_count": null,
   "metadata": {
    "ExecuteTime": {
     "end_time": "2022-02-14T11:52:49.643545Z",
     "start_time": "2022-02-14T11:52:49.627490Z"
    }
   },
   "outputs": [],
   "source": [
    "data = pd.read_csv(\"procrastination.csv\", index_col=0)\n",
    "data.head()"
   ]
  },
  {
   "cell_type": "markdown",
   "metadata": {},
   "source": [
    "### Let's separate our variables "
   ]
  },
  {
   "cell_type": "markdown",
   "metadata": {},
   "source": [
    "💪‍**#1: Do it!** : Assign X and y correctly"
   ]
  },
  {
   "cell_type": "code",
   "execution_count": null,
   "metadata": {
    "ExecuteTime": {
     "end_time": "2022-02-14T11:52:49.649330Z",
     "start_time": "2022-02-14T11:52:49.645865Z"
    }
   },
   "outputs": [],
   "source": [
    "# ASSIGN THESE VARIABLES\n",
    "X = \n",
    "y = "
   ]
  },
  {
   "cell_type": "markdown",
   "metadata": {},
   "source": [
    "### Visualize our dataset "
   ]
  },
  {
   "cell_type": "code",
   "execution_count": null,
   "metadata": {
    "ExecuteTime": {
     "end_time": "2022-02-14T11:52:55.086321Z",
     "start_time": "2022-02-14T11:52:54.838784Z"
    }
   },
   "outputs": [],
   "source": [
    "def plot_dataset(X, y, theta=None):\n",
    "    def add_line(ax, theta_0, theta_1):\n",
    "        x_vals = np.array(ax.get_xlim())\n",
    "        y_vals = theta_0 + x_vals * theta_1\n",
    "        ax.plot(x_vals, y_vals, linewidth=2, color='g')\n",
    "    \n",
    "    sns.set()\n",
    "    fig = plt.figure()\n",
    "    ax = fig.add_subplot(111)\n",
    "    ax.scatter(X, y)\n",
    "    \n",
    "    if theta is not None:\n",
    "        add_line(ax, theta[0], theta[1])\n",
    "    \n",
    "    ax.set_ylim(ymin=0)\n",
    "    ax.set_xlim(xmin=0)\n",
    "    ax.set_xlabel('Time spent procrastinating online (h)')\n",
    "    ax.set_ylabel('Number of cats seen')\n",
    "    ax.set_title('Feline Analysis of Internet Procrastination')\n",
    "    \n",
    "plot_dataset(X, y)"
   ]
  },
  {
   "cell_type": "markdown",
   "metadata": {},
   "source": [
    "## Modelling with a Regression line "
   ]
  },
  {
   "cell_type": "markdown",
   "metadata": {},
   "source": [
    "Our first model will have two parameters: theta0 and theta1.  \n",
    "These two parameters are used to form a linear regression model with **one** feature variable.  \n",
    "Together they can be placed into one `theta` vector."
   ]
  },
  {
   "cell_type": "markdown",
   "metadata": {},
   "source": [
    "👆‍**#2 - Try it out!**: Try out different values for `theta0` and `theta1` and find the values that best fit the data.  \n",
    "🧠 Can you figure out what each of the these parameters do?"
   ]
  },
  {
   "cell_type": "code",
   "execution_count": null,
   "metadata": {
    "ExecuteTime": {
     "end_time": "2022-02-14T12:16:58.579918Z",
     "start_time": "2022-02-14T12:16:58.472896Z"
    }
   },
   "outputs": [],
   "source": [
    "# PLAY AROUND WITH THESE TWO PARAMETERS\n",
    "theta0 = 0\n",
    "theta1 = 0\n",
    "\n",
    "theta = np.array([theta0, theta1])\n",
    "plot_dataset(X, y, theta=theta)"
   ]
  },
  {
   "cell_type": "markdown",
   "metadata": {},
   "source": [
    "# Section 2\n",
    "## Hypothesis "
   ]
  },
  {
   "cell_type": "markdown",
   "metadata": {},
   "source": [
    "💪‍ **#3 - Exercise**: Write the **hypothesis** function for linear regression"
   ]
  },
  {
   "cell_type": "code",
   "execution_count": null,
   "metadata": {
    "ExecuteTime": {
     "end_time": "2022-02-14T11:52:59.644805Z",
     "start_time": "2022-02-14T11:52:59.642162Z"
    }
   },
   "outputs": [],
   "source": [
    "def hypothesis(X, theta):\n",
    "    # YOUR CODE HERE\n",
    "        \n",
    "    return y_predicted"
   ]
  },
  {
   "cell_type": "markdown",
   "metadata": {},
   "source": [
    "Try your hypothesis on different values of X"
   ]
  },
  {
   "cell_type": "code",
   "execution_count": null,
   "metadata": {
    "ExecuteTime": {
     "end_time": "2022-02-13T21:00:47.253157Z",
     "start_time": "2022-02-13T21:00:47.249931Z"
    }
   },
   "outputs": [],
   "source": [
    "X =  # TRY A NUMBER\n",
    "\n",
    "# APPLY THE HYPOTHESIS ON X\n"
   ]
  },
  {
   "cell_type": "markdown",
   "metadata": {},
   "source": [
    "💪‍ **Exercise**: Visualize what your hypothesis looks like by assigning X to an array of arbitrary values, applying your hypothesis on it and visualizing the points on a graph."
   ]
  },
  {
   "cell_type": "code",
   "execution_count": null,
   "metadata": {},
   "outputs": [],
   "source": [
    "# YOUR CODE HERE\n",
    "X = \n",
    "y_predicted = \n",
    "\n",
    "plot_dataset(X, y_predicted)"
   ]
  },
  {
   "cell_type": "markdown",
   "metadata": {},
   "source": [
    "# Section 3\n",
    "## Using a Regression Model as a Python class "
   ]
  },
  {
   "cell_type": "markdown",
   "metadata": {},
   "source": [
    "Here is a class that implements part of univariate linear regression"
   ]
  },
  {
   "cell_type": "code",
   "execution_count": null,
   "metadata": {
    "ExecuteTime": {
     "end_time": "2022-02-14T12:04:48.878289Z",
     "start_time": "2022-02-14T12:04:48.872940Z"
    }
   },
   "outputs": [],
   "source": [
    "class MyUnivariateLinearRegression:\n",
    "    def __init__(self, theta):\n",
    "        self.theta = np.asarray(theta).reshape(-1, 1)\n",
    "    \n",
    "    def predict(self, X):\n",
    "        assert len(X.shape) == 2 and X.shape[1] == 1, \"X needs to have shape (n, 1)\"\n",
    "        m, n = X.shape\n",
    "        x0 = np.ones((m, 1))\n",
    "        X = np.concatenate([x0, X], axis=1)\n",
    "        y_predicted = np.dot(X, self.theta)\n",
    "        return y_predicted\n",
    "    \n",
    "    def fit(self, X, y):\n",
    "        print(\"This method is not implemented.\")\n",
    "        pass"
   ]
  },
  {
   "cell_type": "markdown",
   "metadata": {},
   "source": [
    "💪‍**Do it!**: Format your numpy arrays X and y from the initial dataset with the correct shapes.  \n",
    "$$X:(m, n)$$  $$y:(m, 1)$$"
   ]
  },
  {
   "cell_type": "code",
   "execution_count": null,
   "metadata": {
    "ExecuteTime": {
     "end_time": "2022-02-14T12:07:00.613630Z",
     "start_time": "2022-02-14T12:07:00.610227Z"
    }
   },
   "outputs": [],
   "source": [
    "# YOUR CODE HERE\n",
    "X =\n",
    "y =\n",
    "print(X.shape, y.shape)"
   ]
  },
  {
   "cell_type": "markdown",
   "metadata": {},
   "source": [
    "See if the linear regression model can make predictions when given X."
   ]
  },
  {
   "cell_type": "code",
   "execution_count": null,
   "metadata": {
    "ExecuteTime": {
     "end_time": "2022-02-14T12:08:14.876542Z",
     "start_time": "2022-02-14T12:08:14.872188Z"
    }
   },
   "outputs": [],
   "source": [
    "reg = MyUnivariateLinearRegression(theta)\n",
    "reg.predict(X)"
   ]
  },
  {
   "cell_type": "markdown",
   "metadata": {},
   "source": [
    "# Section 4 \n",
    "## Cost function "
   ]
  },
  {
   "cell_type": "markdown",
   "metadata": {},
   "source": [
    "💪‍ **Exercise**: Write the cost function for your linear regression model"
   ]
  },
  {
   "cell_type": "markdown",
   "metadata": {},
   "source": [
    "$$\n",
    "J(\\theta) = \\frac{1}{m}\\sum_{i=1}^{m}(h(x)^{(i)} - y^{(i)})^2\n",
    "$$\n"
   ]
  },
  {
   "cell_type": "code",
   "execution_count": null,
   "metadata": {},
   "outputs": [],
   "source": [
    "def cost(y, y_predicted):\n",
    "    \n",
    "    # YOUR CODE HERE\n",
    "    "
   ]
  },
  {
   "cell_type": "markdown",
   "metadata": {},
   "source": [
    "Use your function to calculate the cost of your current model"
   ]
  },
  {
   "cell_type": "code",
   "execution_count": null,
   "metadata": {
    "ExecuteTime": {
     "end_time": "2022-02-14T12:09:29.294176Z",
     "start_time": "2022-02-14T12:09:29.291608Z"
    }
   },
   "outputs": [],
   "source": [
    "y_predicted =\n",
    "cost(y, y_predicted)"
   ]
  },
  {
   "cell_type": "markdown",
   "metadata": {},
   "source": [
    "# Resources \n",
    "\n",
    "## Core Resources\n",
    "\n",
    "- [Machine Learning on Coursera - Linear Regression](https://www.coursera.org/lecture/machine-learning/model-representation-db3jS)  \n",
    "Andrew Ng's always excellent course is particularly insightful for this section on Linear Regression."
   ]
  }
 ],
 "metadata": {
  "celltoolbar": "Aucun(e)",
  "kernelspec": {
   "display_name": "Python 3",
   "language": "python",
   "name": "python3"
  },
  "language_info": {
   "codemirror_mode": {
    "name": "ipython",
    "version": 3
   },
   "file_extension": ".py",
   "mimetype": "text/x-python",
   "name": "python",
   "nbconvert_exporter": "python",
   "pygments_lexer": "ipython3",
   "version": "3.7.4"
  },
  "toc": {
   "base_numbering": 1,
   "nav_menu": {},
   "number_sections": true,
   "sideBar": true,
   "skip_h1_title": false,
   "title_cell": "Table of Contents",
   "title_sidebar": "Contents",
   "toc_cell": false,
   "toc_position": {},
   "toc_section_display": true,
   "toc_window_display": false
  }
 },
 "nbformat": 4,
 "nbformat_minor": 4
}
