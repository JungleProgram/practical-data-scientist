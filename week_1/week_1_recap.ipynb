{
 "cells": [
  {
   "cell_type": "markdown",
   "id": "b69d695a",
   "metadata": {},
   "source": [
    "# Week 1 Recap"
   ]
  },
  {
   "cell_type": "code",
   "execution_count": 1,
   "id": "d9af9fa0",
   "metadata": {},
   "outputs": [],
   "source": [
    "import numpy as np\n",
    "import pandas as pd"
   ]
  },
  {
   "cell_type": "markdown",
   "id": "9b468647",
   "metadata": {},
   "source": [
    "## [Lecture 1.1](1.1_introduction_to_numpy_and_pandas/introduction_to_numpy_and_pandas.ipynb)\n",
    "---"
   ]
  },
  {
   "cell_type": "markdown",
   "id": "c763084f",
   "metadata": {},
   "source": [
    "NumPy's **`ndarray`** is an efficient data structures for _vectors_ and _matrices_, e.g:\n",
    "\n",
    "\n",
    "$$\n",
    "\\begin{equation*}\n",
    "B = \n",
    "\\begin{pmatrix}\n",
    "1 & 2 & 3 \\\\\n",
    "4 & 5 & 6 \n",
    "\\end{pmatrix}\n",
    "\\end{equation*}\n",
    "$$"
   ]
  },
  {
   "cell_type": "code",
   "execution_count": 2,
   "id": "5d691b1b",
   "metadata": {},
   "outputs": [
    {
     "data": {
      "text/plain": [
       "array([[1, 2, 3],\n",
       "       [4, 5, 6]])"
      ]
     },
     "execution_count": 2,
     "metadata": {},
     "output_type": "execute_result"
    }
   ],
   "source": [
    "B = np.array([[1, 2, 3], [4, 5, 6]])\n",
    "B"
   ]
  },
  {
   "cell_type": "markdown",
   "id": "027bf528",
   "metadata": {},
   "source": [
    "NumPy provides:\n",
    "* constructors (e.g `np.array()`)\n",
    "* selection methods (e.g `arr[3:4]`)\n",
    "* mathematical methods (e.g `X * Y`)"
   ]
  },
  {
   "cell_type": "markdown",
   "id": "686f9eeb",
   "metadata": {},
   "source": [
    "NumPy uses its own data types, **`dtypes`**, in order to be fast."
   ]
  },
  {
   "cell_type": "markdown",
   "id": "14b635fd",
   "metadata": {},
   "source": [
    "Pandas has two main data structures: **`Series`** & **`DataFrame`**."
   ]
  },
  {
   "cell_type": "markdown",
   "id": "f48cd0a2",
   "metadata": {},
   "source": [
    "**`Series`** augment 1D `ndarray`s with _axis labels_. They have an explicit index that can be used for selection and manipulation."
   ]
  },
  {
   "cell_type": "code",
   "execution_count": 3,
   "id": "95dfe20f",
   "metadata": {},
   "outputs": [
    {
     "data": {
      "text/plain": [
       "0    1\n",
       "1    2\n",
       "2    3\n",
       "3    4\n",
       "dtype: int64"
      ]
     },
     "execution_count": 3,
     "metadata": {},
     "output_type": "execute_result"
    }
   ],
   "source": [
    "pd.Series([1, 2, 3, 4])"
   ]
  },
  {
   "cell_type": "markdown",
   "id": "22a4eed6",
   "metadata": {},
   "source": [
    "**`DataFrames`** are 2D `ndarray`s with _row & column labels_ (i.e the excel sheets of python)."
   ]
  },
  {
   "cell_type": "code",
   "execution_count": 4,
   "id": "b070f33a",
   "metadata": {},
   "outputs": [
    {
     "data": {
      "text/html": [
       "<div>\n",
       "<style scoped>\n",
       "    .dataframe tbody tr th:only-of-type {\n",
       "        vertical-align: middle;\n",
       "    }\n",
       "\n",
       "    .dataframe tbody tr th {\n",
       "        vertical-align: top;\n",
       "    }\n",
       "\n",
       "    .dataframe thead th {\n",
       "        text-align: right;\n",
       "    }\n",
       "</style>\n",
       "<table border=\"1\" class=\"dataframe\">\n",
       "  <thead>\n",
       "    <tr style=\"text-align: right;\">\n",
       "      <th></th>\n",
       "      <th>0</th>\n",
       "      <th>1</th>\n",
       "      <th>2</th>\n",
       "      <th>3</th>\n",
       "    </tr>\n",
       "  </thead>\n",
       "  <tbody>\n",
       "    <tr>\n",
       "      <th>0</th>\n",
       "      <td>1</td>\n",
       "      <td>2</td>\n",
       "      <td>3</td>\n",
       "      <td>4</td>\n",
       "    </tr>\n",
       "    <tr>\n",
       "      <th>1</th>\n",
       "      <td>5</td>\n",
       "      <td>6</td>\n",
       "      <td>7</td>\n",
       "      <td>8</td>\n",
       "    </tr>\n",
       "  </tbody>\n",
       "</table>\n",
       "</div>"
      ],
      "text/plain": [
       "   0  1  2  3\n",
       "0  1  2  3  4\n",
       "1  5  6  7  8"
      ]
     },
     "execution_count": 4,
     "metadata": {},
     "output_type": "execute_result"
    }
   ],
   "source": [
    "pd.DataFrame([[1, 2, 3, 4], [5, 6, 7, 8]])"
   ]
  },
  {
   "cell_type": "markdown",
   "id": "3284196e",
   "metadata": {},
   "source": [
    "Pandas provides more in-depth **data munging** and **data analysis** methods (e.g _merging_, _grouping_, _plotting_, ...) than NumPy."
   ]
  },
  {
   "cell_type": "markdown",
   "id": "a483d74e",
   "metadata": {},
   "source": [
    "## [Lecture 1.2](1.2_tabular_data_pt.1/tabular_data_pt.1.ipynb)\n",
    "---"
   ]
  },
  {
   "cell_type": "markdown",
   "id": "b6489024",
   "metadata": {},
   "source": [
    "There are three `DataFrame` **access methods**:\n",
    "* `[]` - convenient, consistent with python list syntax\n",
    "* `.loc[]` - selection by label, optimised & safe\n",
    "* `.iloc[]` - selection by index, optimised & safe"
   ]
  },
  {
   "cell_type": "markdown",
   "id": "6562d788",
   "metadata": {},
   "source": [
    "**Boolean masks** can be used inside access methods for complex selection logic.  \n",
    "e.g select all pokemons that are water types and bad at attack:  \n",
    "`df.loc[(df[\"Type 1\"] == \"Water\") & (df[\"Attack\"] < 40), :]`"
   ]
  },
  {
   "cell_type": "markdown",
   "id": "a5418c05",
   "metadata": {},
   "source": [
    "Pandas provides methods to clean **missing data** (e.g `.isna()`, `.dropna()`, `.fillna()`)."
   ]
  },
  {
   "cell_type": "markdown",
   "id": "b554a102",
   "metadata": {},
   "source": [
    "There are three `DataFrame` **merging methods**:\n",
    "* `df.append()` - convenient, consistent with python list syntax\n",
    "* `pd.concat()` - more control & flexibility, conflict resolution\n",
    "* `pd.merge()` - database style joins"
   ]
  },
  {
   "cell_type": "markdown",
   "id": "552d9522",
   "metadata": {},
   "source": [
    "## [Lecture 1.3](1.3_tabular_data_pt.2/tabular_data_pt.2.ipynb)\n",
    "---"
   ]
  },
  {
   "cell_type": "markdown",
   "id": "5c7d2329",
   "metadata": {},
   "source": [
    "`DataFrame`s have out-of-the-box **statistical methods**, e.g `.min()`, `.mean()`, `.std()`.\n",
    "\n",
    "`df.describe()` provides a statistical summary of each column."
   ]
  },
  {
   "cell_type": "markdown",
   "id": "a8a189ac",
   "metadata": {},
   "source": [
    "**Group-by** operations allow for complex calculations across several columns. They consist of three steps:\n",
    "* Splitting the data into groups based on some criteria\n",
    "* Applying a function to each group independently\n",
    "* Combining the results into a data structure\n",
    "\n",
    "The last step can take many forms, like _aggregation_ and _filtering_ functions.\n",
    "\n",
    "For example, one can calculate the mean attack of each pokemon generation with:  \n",
    "`df.groupby(\"Generation\").mean()[\"Attack\"]`"
   ]
  },
  {
   "cell_type": "markdown",
   "id": "a258e8d0",
   "metadata": {},
   "source": [
    "**Correlations** between variables can be visualised with _scatter plots_, or calculated with `df.corr()`."
   ]
  },
  {
   "cell_type": "markdown",
   "id": "b0f96a78",
   "metadata": {},
   "source": [
    "Complex calculations that don't require the split-apply-combine paradigm of group-bys can be carried out on `DataFrame`s by using **lambdas** with the **`.apply()`** method."
   ]
  }
 ],
 "metadata": {
  "kernelspec": {
   "display_name": "Python 3",
   "language": "python",
   "name": "python3"
  },
  "language_info": {
   "codemirror_mode": {
    "name": "ipython",
    "version": 3
   },
   "file_extension": ".py",
   "mimetype": "text/x-python",
   "name": "python",
   "nbconvert_exporter": "python",
   "pygments_lexer": "ipython3",
   "version": "3.9.1"
  }
 },
 "nbformat": 4,
 "nbformat_minor": 5
}
