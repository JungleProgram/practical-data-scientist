{
 "cells": [
  {
   "cell_type": "markdown",
   "metadata": {},
   "source": [
    "### 🎯Project Overview\n",
    "You're the new *data scientist* of a huge startup called AirWeb and you've been asked to do a very important task.\n",
    "\n",
    "🏢You see, every month, the head researchers down in the lab send an email to the board of investors to tell them about the status of the project. \n",
    "\n",
    "**Cloudy, your first friend in the office, wants you to intercept these emails and censor any “proprietary information” included in them.**"
   ]
  },
  {
   "cell_type": "markdown",
   "metadata": {},
   "source": [
    "*** \n",
    "###  💫 Step 1 :\n",
    "\n",
    "We have four emails we want to work on: `email_one.txt`, `email_two.txt`, `email_three.txt` and `email_four.txt`. You can find them in the `data` directory. \n",
    "\n",
    "**Open these files and store their content in variables called `email_one`, `email_two`, `email_three`, and `email_four`.**"
   ]
  },
  {
   "cell_type": "code",
   "execution_count": null,
   "metadata": {},
   "outputs": [],
   "source": [
    "# Enter your code here"
   ]
  },
  {
   "cell_type": "markdown",
   "metadata": {},
   "source": [
    "**Print out your variables and explore their content, to see what you're dealing with!**"
   ]
  },
  {
   "cell_type": "code",
   "execution_count": null,
   "metadata": {},
   "outputs": [],
   "source": []
  },
  {
   "cell_type": "markdown",
   "metadata": {},
   "source": [
    "***\n",
    "### 💫Step 2 : \n",
    "Mr. Cloudy asks you to use a function to censor all instances of the phrase `\"learning algorithms\"` from the first email.\n",
    "\n",
    "**Write a function that filters out a specific word or phrase from a body of text, and then returns the filtered text.**\n",
    "\n",
    "*💡Hint : your function has two arguments, the email and the phrase we want to censor.*  \n",
    "*💡Hint 2: Check out the method `.replace()` in python, it might help you out 😇.*"
   ]
  },
  {
   "cell_type": "code",
   "execution_count": null,
   "metadata": {},
   "outputs": [],
   "source": [
    "def filter_phrase(email, phrase):\n",
    "    # code your function here!"
   ]
  },
  {
   "cell_type": "markdown",
   "metadata": {},
   "source": [
    "**Run the following cell after you're done with your function:**"
   ]
  },
  {
   "cell_type": "code",
   "execution_count": null,
   "metadata": {},
   "outputs": [],
   "source": [
    "print(filter_phrase(email_one, \"learning algorithms\"))"
   ]
  },
  {
   "cell_type": "markdown",
   "metadata": {},
   "source": [
    "**What do you see? Compare your result with the original file and see if you managed to filter out the phrase \"learning algorithms\".**"
   ]
  },
  {
   "cell_type": "markdown",
   "metadata": {},
   "source": [
    "***\n",
    "### 💫 Step 3 : \n",
    "\n",
    "Mr. Cloudy asks you to filter out all words and phrases that belong to the following list from the second email.\n",
    "\n",
    "`proprietary_terms = [\"she\", \"personality matrix\", \"sense of self\", \"self-preservation\", \"learning algorithm\", \"her\", \"herself\"]`\n",
    "\n",
    "**Write a function that filters out an entire list of words and phrases from a body of text, and then returns the filtered text.**"
   ]
  },
  {
   "cell_type": "code",
   "execution_count": null,
   "metadata": {},
   "outputs": [],
   "source": [
    "def filter_proprietary(email, proprietary_terms):\n",
    "    # code your function here!"
   ]
  },
  {
   "cell_type": "markdown",
   "metadata": {},
   "source": [
    "**Run the following cell after you're done with your function:**"
   ]
  },
  {
   "cell_type": "code",
   "execution_count": null,
   "metadata": {},
   "outputs": [],
   "source": [
    "proprietary_terms = [\"she\", \"personality matrix\", \"sense of self\", \"self-preservation\", \"learning algorithm\", \"her\", \"herself\"]\n",
    "print(filter_proprietary(email_two, proprietary_terms))"
   ]
  },
  {
   "cell_type": "markdown",
   "metadata": {},
   "source": [
    "**What do you see? Is the email clean now?**"
   ]
  },
  {
   "cell_type": "markdown",
   "metadata": {},
   "source": [
    "***\n",
    "### 💫 Step 4 : \n",
    "\n",
    "Airweb strongly condemns negative energy - especially in their communication channels. They consider an email to be too negative if it contains more than one negative term. As such, Mr. Cloudy asks you to make the third email more positive using the following negative word list:\n",
    "\n",
    "`negative_terms = [\"concerned\", \"behind\", \"danger\", \"dangerous\", \"alarming\", \"alarmed\", \"out of control\", \"help\", \"unhappy\", \"bad\", \"upset\", \"awful\", \"broken\", \"damage\", \"damaging\", \"dismal\", \"distressed\", \"distressed\", \"concerning\", \"horrible\", \"horribly\", \"questionable\"]`\n"
   ]
  },
  {
   "cell_type": "markdown",
   "metadata": {},
   "source": [
    "**Write a function that removes all occurences of negative terms from a body text, except for the first occurence.**"
   ]
  },
  {
   "cell_type": "markdown",
   "metadata": {},
   "source": [
    "*💡Hint : \n",
    "For example, if your function is given the text :*\n",
    "\n",
    "`I am concerned that this project is horrible, awful, and broken.`\n",
    "\n",
    "*it should return:*\n",
    "\n",
    "`I am concerned that this project is horrible, , and .`  \n",
    "\n",
    "*💡Hint 2: you can split a string by whitespace by using `str.split()`*"
   ]
  },
  {
   "cell_type": "code",
   "execution_count": null,
   "metadata": {},
   "outputs": [],
   "source": [
    "def filter_negativity(email, negative_terms):\n",
    "    # code your function here"
   ]
  },
  {
   "cell_type": "markdown",
   "metadata": {},
   "source": [
    "**Run the cell below when you're done with creating your function.**"
   ]
  },
  {
   "cell_type": "code",
   "execution_count": null,
   "metadata": {},
   "outputs": [],
   "source": [
    "negative_terms = [\"concerned\", \"behind\", \"danger\", \"dangerous\", \"alarming\", \"alarmed\", \"out of control\", \n",
    "                  \"help\", \"unhappy\", \"bad\", \"upset\", \"awful\", \"broken\", \"damage\", \"damaging\", \"dismal\", \"distressing\", \n",
    "                  \"distressed\", \"concerning\", \"horrible\", \"horribly\", \"questionable\"]\n",
    "print(filter_negativity(email_three, negative_terms))"
   ]
  },
  {
   "cell_type": "markdown",
   "metadata": {},
   "source": [
    "**Did your function filter out the words \"alarming\" or \"distressing\", but leave \"concerning\"?**"
   ]
  },
  {
   "cell_type": "markdown",
   "metadata": {},
   "source": [
    "*** \n",
    "### 💫 Step 5 :\n",
    "\n",
    "IS SOMEONE ANGRY?\n",
    "\n",
    "**Update your function to deal with both lower case and uppercase characters.**\n",
    "\n",
    "*💡Hint : Your function should filter multiple occurences of negative terms irrespective of their casing*"
   ]
  },
  {
   "cell_type": "code",
   "execution_count": null,
   "metadata": {},
   "outputs": [],
   "source": [
    "def filter_loud_negativity(email, negative_terms):\n",
    "    # code your function here"
   ]
  },
  {
   "cell_type": "code",
   "execution_count": null,
   "metadata": {},
   "outputs": [],
   "source": [
    "angry_email = \"I am CONCERNED that this project is horrible and BrOkEn !\"\n",
    "print(filter_loud_negativity(angry_email, negative_terms))"
   ]
  },
  {
   "cell_type": "markdown",
   "metadata": {},
   "source": [
    "**Did your function filter out the words \"horrible\" and \"BrOkEn\", but leave \"CONCERNED\"?**"
   ]
  },
  {
   "cell_type": "markdown",
   "metadata": {},
   "source": [
    "***\n",
    "### **💫ADVANCED Task 6 :**\n",
    "\n",
    "This final email has Mr. Cloudy in a frenzy, he wants to cut most of it out!\n",
    "\n",
    "**Write a function that censors each word in `proprietary_terms`, and the following word.**"
   ]
  },
  {
   "cell_type": "markdown",
   "metadata": {},
   "source": [
    "*💡Hint : \n",
    "For example, if your function is given the text :*\n",
    "\n",
    "`I think that learning algorithms are the best.`\n",
    "\n",
    "*it should return:*\n",
    "\n",
    "`I think that  the best.`"
   ]
  },
  {
   "cell_type": "code",
   "execution_count": null,
   "metadata": {},
   "outputs": [],
   "source": [
    "def filter_most(email, proprietary_terms):\n",
    "    # code your function here"
   ]
  },
  {
   "cell_type": "markdown",
   "metadata": {},
   "source": [
    "**Run the cell below when you're done with creating your function.**"
   ]
  },
  {
   "cell_type": "code",
   "execution_count": null,
   "metadata": {},
   "outputs": [],
   "source": [
    "print(filter_most(email_four, proprietary_terms))"
   ]
  },
  {
   "cell_type": "markdown",
   "metadata": {},
   "source": [
    "**Did you manage to correctly filter out proprietary terms and the following words from the final email?**"
   ]
  },
  {
   "cell_type": "markdown",
   "metadata": {},
   "source": [
    "***\n",
    "anddd you're done! Your friend Mr.Cloudy is very happy with the result 🌞. AirWeb investors are thrilled and invest another 99 million dollars in the company. You are promoted to the prized position of Chief Censorship Officer. Congratulations! 🎉"
   ]
  }
 ],
 "metadata": {
  "kernelspec": {
   "display_name": "Python 3",
   "language": "python",
   "name": "python3"
  },
  "language_info": {
   "codemirror_mode": {
    "name": "ipython",
    "version": 3
   },
   "file_extension": ".py",
   "mimetype": "text/x-python",
   "name": "python",
   "nbconvert_exporter": "python",
   "pygments_lexer": "ipython3",
   "version": "3.9.1"
  }
 },
 "nbformat": 4,
 "nbformat_minor": 4
}
