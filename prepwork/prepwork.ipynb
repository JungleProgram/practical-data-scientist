{
 "cells": [
  {
   "cell_type": "markdown",
   "metadata": {},
   "source": [
    "### 🎯Project Overview\n",
    "**You're the new *data scientist* of a huge startup called AirWeb and you've been asked to do a very important task.**\n",
    "\n",
    "**🏢You see, every month, the head researchers down in the lab send an email to the board of investors to tell them about the status of the project. `Cloudy, your first friend in the office, wants you to intercept these emails and censor any “proprietary information” included in them.`**\n",
    "\n"
   ]
  },
  {
   "cell_type": "markdown",
   "metadata": {},
   "source": [
    "*** \n",
    "###  💫 Step 1 :\n",
    "\n",
    "**We have four emails we want to work on: `email_one.txt`, `email_two.txt`, `email_three.txt` and `email_four.txt`. You can find them in the `data` directory. Open these files and store their content in variables called `email_one`, `email_two`, `email_three`, and `email_four`.**\n",
    "\n",
    "*Print out your variables and explore their content, to see what you're dealing with!*\n",
    "***"
   ]
  },
  {
   "cell_type": "markdown",
   "metadata": {},
   "source": [
    "Hint : explore how you can **open** a file with python. "
   ]
  },
  {
   "cell_type": "code",
   "execution_count": null,
   "metadata": {},
   "outputs": [],
   "source": [
    "#Enter your code here"
   ]
  },
  {
   "cell_type": "markdown",
   "metadata": {},
   "source": [
    "***\n",
    "### 💫Step 2 : \n",
    "**Write a function that can filters out a specific word or phrase from a body of text, and then return the text.**\n",
    "\n",
    "**Mr. Cloudy has asked you to use the function to censor all instances of the phrase \"learning algorithms\" from the first email, email_one.**\n",
    "\n",
    "**💡Hint : your function should take two parameters, the email and the word we want to censor.**\n",
    "***"
   ]
  },
  {
   "cell_type": "code",
   "execution_count": null,
   "metadata": {},
   "outputs": [],
   "source": [
    "def filter_email():\n",
    "    #code your function here!\n",
    "    \n"
   ]
  },
  {
   "cell_type": "markdown",
   "metadata": {},
   "source": [
    "**Run the following cell after you're done with your filter_email function.**"
   ]
  },
  {
   "cell_type": "code",
   "execution_count": null,
   "metadata": {},
   "outputs": [],
   "source": [
    "email_one_clean = filter_email(email_one, \"learning algorithms\")\n",
    "print(email_one_clean)"
   ]
  },
  {
   "cell_type": "markdown",
   "metadata": {},
   "source": [
    "**what do you see? compare your result with the original file and see if you managed to filter out the word \"learning algorithms\" or not**"
   ]
  },
  {
   "cell_type": "markdown",
   "metadata": {},
   "source": [
    "***\n",
    "### 💫 Step 3 : \n",
    "\n",
    "Write a function that can filter out not just a specific word or phrase from a body of text, but a whole list of words and phrases, and then return the text.\n",
    "\n",
    "Mr. Cloudy has asked that you filter out all words and phrases from the following list in email_two.\n",
    "\n",
    "`proprietary_terms = [\"she\", \"personality matrix\", \"sense of self\", \"self-preservation\", \"learning algorithm\", \"her\", \"herself\"]`\n",
    "\n",
    "**💡Hint : your function should take two parameters, the email and the list of words we want to censor.**\n",
    "***"
   ]
  },
  {
   "cell_type": "code",
   "execution_count": null,
   "metadata": {},
   "outputs": [],
   "source": [
    "def filter_list_from_email():\n",
    "    #code your function here!"
   ]
  },
  {
   "cell_type": "markdown",
   "metadata": {},
   "source": [
    "**Run the following cell after you're done with your filter_list_from_email function.**"
   ]
  },
  {
   "cell_type": "code",
   "execution_count": 1,
   "metadata": {},
   "outputs": [
    {
     "ename": "NameError",
     "evalue": "name 'filter_list_from_email' is not defined",
     "output_type": "error",
     "traceback": [
      "\u001b[0;31m---------------------------------------------------------------------------\u001b[0m",
      "\u001b[0;31mNameError\u001b[0m                                 Traceback (most recent call last)",
      "\u001b[0;32m<ipython-input-1-79b92b463591>\u001b[0m in \u001b[0;36m<module>\u001b[0;34m\u001b[0m\n\u001b[1;32m      1\u001b[0m \u001b[0mproprietary_terms\u001b[0m \u001b[0;34m=\u001b[0m \u001b[0;34m[\u001b[0m\u001b[0;34m\"she\"\u001b[0m\u001b[0;34m,\u001b[0m \u001b[0;34m\"personality matrix\"\u001b[0m\u001b[0;34m,\u001b[0m \u001b[0;34m\"sense of self\"\u001b[0m\u001b[0;34m,\u001b[0m \u001b[0;34m\"self-preservation\"\u001b[0m\u001b[0;34m,\u001b[0m \u001b[0;34m\"learning algorithm\"\u001b[0m\u001b[0;34m,\u001b[0m \u001b[0;34m\"her\"\u001b[0m\u001b[0;34m,\u001b[0m \u001b[0;34m\"herself\"\u001b[0m\u001b[0;34m]\u001b[0m\u001b[0;34m\u001b[0m\u001b[0;34m\u001b[0m\u001b[0m\n\u001b[0;32m----> 2\u001b[0;31m \u001b[0mclean_email_two\u001b[0m \u001b[0;34m=\u001b[0m \u001b[0mfilter_list_from_email\u001b[0m\u001b[0;34m(\u001b[0m\u001b[0memail_two\u001b[0m\u001b[0;34m,\u001b[0m \u001b[0mproprietary_terms\u001b[0m\u001b[0;34m)\u001b[0m\u001b[0;34m\u001b[0m\u001b[0;34m\u001b[0m\u001b[0m\n\u001b[0m\u001b[1;32m      3\u001b[0m \u001b[0mprint\u001b[0m\u001b[0;34m(\u001b[0m\u001b[0mclean_email_two\u001b[0m\u001b[0;34m)\u001b[0m\u001b[0;34m\u001b[0m\u001b[0;34m\u001b[0m\u001b[0m\n",
      "\u001b[0;31mNameError\u001b[0m: name 'filter_list_from_email' is not defined"
     ]
    }
   ],
   "source": [
    "proprietary_terms = [\"she\", \"personality matrix\", \"sense of self\", \"self-preservation\", \"learning algorithm\", \"her\", \"herself\"]\n",
    "clean_email_two = filter_list_from_email(email_two, proprietary_terms)\n",
    "print(clean_email_two)"
   ]
  },
  {
   "cell_type": "markdown",
   "metadata": {},
   "source": [
    "**What do you see? does the email seem clean now?**"
   ]
  },
  {
   "cell_type": "markdown",
   "metadata": {},
   "source": [
    "***\n",
    "### 💫 Step 4 : \n",
    "\n",
    "**Airweb is strongly against negative energy, specially negative words in their emails! \n",
    "It's time to filter out the negative words listed below from the emails to get rid of the negative energy.**\n",
    "\n",
    "`negative_words = [\"concerned\", \"behind\", \"danger\", \"dangerous\", \"alarming\", \"alarmed\", \"out of control\", \"help\", \"unhappy\", \"bad\", \"upset\", \"awful\", \"broken\", \"damage\", \"damaging\", \"dismal\", \"distressed\", \"distressed\", \"concerning\", \"horrible\", \"horribly\", \"questionable\"]`\n"
   ]
  },
  {
   "cell_type": "markdown",
   "metadata": {},
   "source": [
    "**Write a function that can censor any occurence of a word from the “negative words” list after any “negative” word has occurred twice. then,use it to censor the negative words in email_three and the clean texts from last steps.**\n"
   ]
  },
  {
   "cell_type": "markdown",
   "metadata": {},
   "source": [
    "**💡Hint : \n",
    "For example, if your function is given the text :**\n",
    "\n",
    "`I am concerned that this project is horrible, awful, and broken.`\n",
    "\n",
    "**it should return:**\n",
    "\n",
    "`I am concerned that this project is horrible, \" \", and \" \". `\n",
    "\n",
    "**💡Hint 2 :**\n",
    "**Check out the method .replace() in python,it might help you out 😇.**\n",
    "***"
   ]
  },
  {
   "cell_type": "code",
   "execution_count": null,
   "metadata": {},
   "outputs": [],
   "source": [
    "negative_words = [\"concerned\", \"behind\", \"danger\", \"dangerous\", \"alarming\", \"alarmed\", \"out of control\", \n",
    "                  \"help\", \"unhappy\", \"bad\", \"upset\", \"awful\", \"broken\", \"damage\", \"damaging\", \"dismal\", \"distressed\", \n",
    "                  \"distressed\", \"concerning\", \"horrible\", \"horribly\", \"questionable\"]"
   ]
  },
  {
   "cell_type": "code",
   "execution_count": null,
   "metadata": {},
   "outputs": [],
   "source": [
    "def filter_negativity():\n",
    "    #code your function here"
   ]
  },
  {
   "cell_type": "markdown",
   "metadata": {},
   "source": [
    "**Run the cell below when you're done with creating your function.**"
   ]
  },
  {
   "cell_type": "code",
   "execution_count": null,
   "metadata": {},
   "outputs": [],
   "source": [
    "sample_text = \"I am concerned that this project is horrible, awful, and broken.\"\n",
    "print(filter_negativity(sample_text))"
   ]
  },
  {
   "cell_type": "markdown",
   "metadata": {},
   "source": [
    "**Did your function filter out the words \" awful\" and \"broken\"?**"
   ]
  },
  {
   "cell_type": "markdown",
   "metadata": {},
   "source": [
    "*** \n",
    "### 💫 Step 5 :\n",
    "**Try to make your function deal with both lower case and uppercase characters!**\n",
    "***"
   ]
  },
  {
   "cell_type": "markdown",
   "metadata": {},
   "source": [
    "***\n",
    "### **💫ADVANCED Task 6 :**\n",
    "\n",
    "**This final email has Mr. Cloudy in a frenzy! \n",
    "Now it's time to filter stuff out from the fourth email**\n",
    "\n",
    "**Write a function that censors not only all of the words from the negative_words and proprietary_terms lists, but also censor any words in email_four that come before AND after a term from those two lists.**\n",
    "***"
   ]
  },
  {
   "cell_type": "code",
   "execution_count": null,
   "metadata": {},
   "outputs": [],
   "source": [
    "def filter_email_four():\n",
    "    #code your function here"
   ]
  },
  {
   "cell_type": "markdown",
   "metadata": {},
   "source": [
    "***\n",
    "**anddd you're done! Mr.Cloudy is very happy with the result 🌞**\n",
    "***"
   ]
  }
 ],
 "metadata": {
  "kernelspec": {
   "display_name": "Python 3",
   "language": "python",
   "name": "python3"
  },
  "language_info": {
   "codemirror_mode": {
    "name": "ipython",
    "version": 3
   },
   "file_extension": ".py",
   "mimetype": "text/x-python",
   "name": "python",
   "nbconvert_exporter": "python",
   "pygments_lexer": "ipython3",
   "version": "3.9.1"
  }
 },
 "nbformat": 4,
 "nbformat_minor": 4
}
