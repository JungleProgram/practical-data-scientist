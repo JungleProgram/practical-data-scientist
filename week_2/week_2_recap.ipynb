{
 "cells": [
  {
   "cell_type": "markdown",
   "id": "6553bdb7",
   "metadata": {},
   "source": [
    "# Week 2 Recap"
   ]
  },
  {
   "cell_type": "markdown",
   "id": "6d78b766",
   "metadata": {},
   "source": [
    "## [Lecture 2.1](2.1_time_series_data/time_series_data.ipynb)\n",
    "---"
   ]
  },
  {
   "cell_type": "markdown",
   "id": "8e8674c7",
   "metadata": {},
   "source": [
    "A **Time Series** is a sequence of data points indexed by _time_. In Pandas, there are three main time series classes: `Timestamp`, `Timedelta`, and `Period`, and three matching time indexes, respectively : `DatetimeIndex`, `TimedeltaIndex`, `PeriodIndex`."
   ]
  },
  {
   "cell_type": "markdown",
   "id": "a5f537b6",
   "metadata": {},
   "source": [
    "Pandas can parse most datetime formats with the **`pd.to_datetime()`** constructor, including named arguments, native python datetimes, or natural language strings."
   ]
  },
  {
   "cell_type": "markdown",
   "id": "c3bc364b",
   "metadata": {},
   "source": [
    "This parsing is also carried inside **access methods** like `[]`, `.loc[]`, or `.iloc[]`.  \n",
    "\n",
    "e.g: `ts['3rd of January 2000':'2000/01/05']`"
   ]
  },
  {
   "cell_type": "markdown",
   "id": "e4f24a38",
   "metadata": {},
   "source": [
    "The **`.pivot()`** function is used to create a new index or new columns from `DataFrame` cell values. This helps unfold datasets in a _stacked_ format."
   ]
  },
  {
   "cell_type": "markdown",
   "id": "a0fdf32f",
   "metadata": {},
   "source": [
    "_Periodicity_ in a time-indexed dataset can be visualised with **seasonality plots**. These superpose or aggregate data over a recurring period (e.g a year), to highlight repeating patterns."
   ]
  },
  {
   "cell_type": "markdown",
   "id": "4601a073",
   "metadata": {},
   "source": [
    "The **`.shift()`** function can shift time series values or their index by a certain duration. This is useful to clean erroneous timestamps, or harmonise data across timezones."
   ]
  },
  {
   "cell_type": "markdown",
   "id": "cb33e055",
   "metadata": {},
   "source": [
    "It is often useful to carry out aggregate calculations over _time windows_, and incrementally step through the entire time series. These **rolling statistics** are implemented with the **`.rolling()`** method. Just like group-bys, it is followed by an aggregation function, e.g: `.mean()`, or `.sum()`."
   ]
  },
  {
   "cell_type": "markdown",
   "id": "c9f08215",
   "metadata": {},
   "source": [
    "Sometimes time indices are not regularly spaced, which can create problems for downstream tasks. The **`.resample()`** method aggregates values across consistent & consecutive time windows."
   ]
  },
  {
   "cell_type": "markdown",
   "id": "8f559c17",
   "metadata": {},
   "source": [
    "**`.interpolate()`** can repair missing data by guessing likely values, e.g with a linear function. Use with caution!"
   ]
  },
  {
   "cell_type": "markdown",
   "id": "fdafd295",
   "metadata": {},
   "source": [
    "## [Lecture 2.2](2.2_text_and_image_data/text_and_image_data.ipynb)\n",
    "---"
   ]
  },
  {
   "cell_type": "markdown",
   "id": "cc703fbc",
   "metadata": {},
   "source": [
    "**Text data** is hard to summarise and significant preprocessing is required to extract insights from it.\n",
    "\n",
    "Contrary to tabular data, **text data munging** is typically done with _native python methods_. Common cleaning operations include `.join()`, `.split()`, `.strip()`, or regex pattern matching with the `re` module.\n",
    "\n",
    "Strings of text are typically _segmented_ into semantic units than can then be aggregated or analysed, e.g words or characters. This process is called **tokenization**.\n",
    "\n",
    "Manipulations that require grammatical or semantic knowledge require advanced Natural Language Processing (NLP) techniques. The **spacy** library offers comprehensive out-of-the-box text analysis, including state-of-the-art _tokenization_, _dependency parsing_, and _entity tagging_. This linguistic metadata is stored on a `doc = nlp(string)` object, with `nlp` the downloaded NLP model.\n",
    "\n"
   ]
  },
  {
   "cell_type": "markdown",
   "id": "b2fdea9e",
   "metadata": {},
   "source": [
    "Large **image datasets** can be hard to visualise in their entirety, and can require heavy computation to process. \n",
    "\n",
    "Images are just pixel **tensors** (N-dimensional arrays). They can therefore be stored in NumPy `ndarrays` and manipulated with standard access methods like `[]`.\n",
    "\n",
    "**Pillow** offers more comprehensive out-of-the-box image operations like _io_, _transposes_, and _resizes_. These are useful for the preprocessing of image data before downstream computer vision tasks."
   ]
  },
  {
   "cell_type": "markdown",
   "id": "5c477512",
   "metadata": {},
   "source": [
    "## [Lecture 2.3](2.3_data_visualization/data_visualization.ipynb)\n",
    "---"
   ]
  },
  {
   "cell_type": "markdown",
   "id": "cdff7b8f",
   "metadata": {},
   "source": [
    "Effective data visualisation requires:\n",
    "* **data literacy** to understand the dataset in detail\n",
    "* **visual literacy** to communicate this detailed understanding\n",
    "\n",
    "The language of data viz is **data encodings**, e.g lengths, colors, alignment, shapes. They are used to _guide attention_, _transmit quantitative information_, and _enable mental calculations_ in the reader's brain.\n",
    "\n",
    "Tools to transform boring graphs into impactful **data stories** include:\n",
    "* _minimalism & high data-ink ratios_\n",
    "* _apt color schemes_\n",
    "* _accurate representation of variation in the data_\n",
    "* _descriptive text_\n",
    "* _ackowledged conventions_\n",
    "* _asking questions before finding answers_\n",
    "\n",
    "Data viz typically takes two roles in the data science workflow:\n",
    "* **data exploration**: quick iterative graphs to better understand a dataset\n",
    "* **analysis communication**: polished plots to convey final results"
   ]
  },
  {
   "cell_type": "markdown",
   "id": "20f9d6ff",
   "metadata": {},
   "source": [
    "**Pandas** integrates matplotlib visualisations directly into `DataFrame`s with `df.plot`. However, directly using the matplotlib module gives more control over the appearance of graphs.\n",
    "\n",
    "The **object-oriented api** provides classes to design the virtual plot space, including `figure`, `axes`, `lines`, `tickers`, etc.\n",
    "\n",
    "All the available plotting methods can be found [here](https://matplotlib.org/stable/api/axes_api.html#plotting).\n",
    "\n",
    "The most appropriate type of graph depends on the data and the insights being conveyed ([data-to-viz flowchart](https://www.data-to-viz.com/))."
   ]
  }
 ],
 "metadata": {
  "kernelspec": {
   "display_name": "Python 3",
   "language": "python",
   "name": "python3"
  },
  "language_info": {
   "codemirror_mode": {
    "name": "ipython",
    "version": 3
   },
   "file_extension": ".py",
   "mimetype": "text/x-python",
   "name": "python",
   "nbconvert_exporter": "python",
   "pygments_lexer": "ipython3",
   "version": "3.9.1"
  }
 },
 "nbformat": 4,
 "nbformat_minor": 5
}
