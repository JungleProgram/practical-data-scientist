{
 "cells": [
  {
   "cell_type": "markdown",
   "metadata": {},
   "source": [
    "# Homework 2\n",
    "\n",
    "ϞϞ(๑⚈ ․̫ ⚈๑)\n",
    "\n",
    "The latest pokedex update added a cool new feature: the `Last Seen` column, which tells us when we last encountered each pokemon. We want to analyse our historical data to better understand how to catch them all!\n",
    "\n",
    "The data can be found under `pokedex_v2/pokemons.csv`, and is the same as homework 1 (with the added column)."
   ]
  },
  {
   "cell_type": "markdown",
   "metadata": {},
   "source": [
    "## Problem 1 \n",
    "\n",
    "Since we want to analyse historical data, let's work in the time domain. We want a sorted log of all our last pokemon encounters, indexed by time of last encounter.\n",
    "\n",
    "💪 **Task: Load the DataFrame in a variable called `df`, index the DataFrame by `Last Seen` timestamps, then sort the DataFrame in chronological order.**\n",
    "\n",
    "Pro-tips: \n",
    "* revisit the [`.read_csv()`](https://pandas.pydata.org/pandas-docs/stable/reference/api/pandas.read_csv.html) documentation to understand how to parse dates correctly.\n",
    "* remember to update the `df` variable everytime you modify it"
   ]
  },
  {
   "cell_type": "code",
   "execution_count": null,
   "metadata": {},
   "outputs": [],
   "source": [
    "# INSERT YOUR CODE HERE"
   ]
  },
  {
   "cell_type": "code",
   "execution_count": null,
   "metadata": {},
   "outputs": [],
   "source": [
    "def test_load_df():\n",
    "    assert'df' in globals(), \"DataFrame wasn't loaded in variable df\"\n",
    "    print('Success! 🎉')\n",
    "    \n",
    "def test_time_index():\n",
    "    assert type(df.index) == pd.core.indexes.datetimes.DatetimeIndex, f\"Expected DataFrame index type to be DatetimeIndex, but got {type(df.index)}\"\n",
    "    max_ts = pd.Timestamp(\"2021-01-06 08:00:00\")\n",
    "    assert df.index.max() == max_ts, f\"Expected max timestamp in index to be {max_ts}, but got {df.index.max()}\"\n",
    "    print('Success! 🎉')\n",
    "    \n",
    "def test_sorted_index():\n",
    "    assert df.index.is_monotonic_increasing, \"Expected time index to be sorted by chronological order\"\n",
    "    print('Success! 🎉')\n",
    "    \n",
    "test_load_df()\n",
    "test_time_index()\n",
    "test_sorted_index()"
   ]
  },
  {
   "cell_type": "markdown",
   "metadata": {},
   "source": [
    "## Problem 2\n",
    "\n",
    "Oh dear, Misty recently borrowed our pokedex, and now we can't tell which pokemons were found by whom!\n",
    "\n",
    "💪 **Task: Add a `Trainer` column, with value `Misty` for pokemons `Last Seen` in July 2020, and value `Me` for the rest.**\n",
    "\n",
    "Pro-tip: make sure you update the `df` object!"
   ]
  },
  {
   "cell_type": "code",
   "execution_count": null,
   "metadata": {},
   "outputs": [],
   "source": [
    "# INSERT YOUR CODE HERE"
   ]
  },
  {
   "cell_type": "code",
   "execution_count": null,
   "metadata": {},
   "outputs": [],
   "source": [
    "def test_trainer_column():\n",
    "    assert \"Trainer\" in df.columns, \"Can't find column 'Trainer'\"\n",
    "    print('Success! 🎉')\n",
    "    \n",
    "def test_misty_fix():\n",
    "    na_count = (df[\"Trainer\"] == \"Misty\").sum()\n",
    "    assert na_count == 86, f\"Misty should have seen 86 pokemons, but she has seen {na_count}\" \n",
    "    print('Success! 🎉')\n",
    "    \n",
    "test_trainer_column()\n",
    "test_misty_fix()"
   ]
  },
  {
   "cell_type": "markdown",
   "metadata": {},
   "source": [
    "## Problem 3\n",
    "\n",
    "The most exciting part of going on trainer adventures is coming across powerful pokemons 💪. We remember some weeks where we met very strong pokemon, and some that were more quiet. We want to visualise this by tracking the `Total` characteristic of the most powerful pokemon we met in the last 7 days.\n",
    "\n",
    "💪 **Task: Calculate a max rolling statistic for the `Total` variable with window size of 7 days. Store it in a Series called `rolling_max_total`.**\n",
    "\n",
    "Pro-tip: revisit the [`.rolling`] documentation to understand the difference between windows defined by number of steps, and windows defined by amount of time.\n"
   ]
  },
  {
   "cell_type": "code",
   "execution_count": null,
   "metadata": {},
   "outputs": [],
   "source": [
    "# INSERT YOUR CODE HERE"
   ]
  },
  {
   "cell_type": "code",
   "execution_count": null,
   "metadata": {},
   "outputs": [],
   "source": [
    "def test_rolling_max_total():\n",
    "    assert'rolling_max_total' in globals(), \"Can't find variable rolling_max_total\"\n",
    "    assert type(rolling_max_total) == pd.Series, f\"Expected `rolling_max_total` to be a Series object, but got {type(rolling_max_total)}\"\n",
    "    assert type(rolling_max_total.index) == pd.core.indexes.datetimes.DatetimeIndex, f\"Expected DataFrame index type to be DatetimeIndex, but got {type(rolling_max_total.index)}\"\n",
    "    assert len(rolling_max_total) == 800, f\"Expected length of rolling_max_total to be 800, but got {len(rolling_max_total)}\"\n",
    "    assert rolling_max_total.sum() == 532758, f\"Expected sum of rolling_max_total to be 532758, but got {rolling_max_total.sum()}\"\n",
    "    print('Success! 🎉')\n",
    "\n",
    "test_rolling_max_total()"
   ]
  },
  {
   "cell_type": "markdown",
   "metadata": {},
   "source": [
    "💪 **Task: Visualise this rolling statistic through time.**\n",
    "\n",
    "The code cell below should return the graph:\n",
    "\n",
    "\n",
    "Pro-tip: pimp up your graph!"
   ]
  },
  {
   "cell_type": "code",
   "execution_count": null,
   "metadata": {},
   "outputs": [],
   "source": [
    "# INSERT YOUR CODE HERE"
   ]
  },
  {
   "cell_type": "markdown",
   "metadata": {},
   "source": [
    "🧠 **Question: Do you have an idea why the graph looks different between March and May?**"
   ]
  },
  {
   "cell_type": "markdown",
   "metadata": {},
   "source": [
    "## Problem 4\n",
    "\n",
    "We started our journey a while ago, and have explored 6 entire generations of Pokemon. We'd like to visualise this journey by plotting a _histogram_ of our last pokemon encounters, grouped by `Generation`.\n",
    "\n",
    "💪💪 **Task: Plot a histogram of pokemon encounters through time grouped by `Generation`.**\n",
    "\n",
    "Pro-tips:\n",
    "* The x-axis should be time.\n",
    "* Each group should be represented with a different visual encoding\n",
    "* check out [.hist()](https://matplotlib.org/stable/api/_as_gen/matplotlib.pyplot.hist.html#matplotlib.pyplot.hist)\n",
    "* pimp up your graph!\n",
    "\n",
    "The graph should be displayed by the code cell below:"
   ]
  },
  {
   "cell_type": "code",
   "execution_count": null,
   "metadata": {},
   "outputs": [],
   "source": [
    "# INSERT YOUR CODE HERE"
   ]
  }
 ],
 "metadata": {
  "kernelspec": {
   "display_name": "Python 3",
   "language": "python",
   "name": "python3"
  },
  "language_info": {
   "codemirror_mode": {
    "name": "ipython",
    "version": 3
   },
   "file_extension": ".py",
   "mimetype": "text/x-python",
   "name": "python",
   "nbconvert_exporter": "python",
   "pygments_lexer": "ipython3",
   "version": "3.9.1"
  }
 },
 "nbformat": 4,
 "nbformat_minor": 4
}
